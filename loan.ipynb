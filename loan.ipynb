{
 "cells": [
  {
   "attachments": {},
   "cell_type": "markdown",
   "id": "e8ffc1df",
   "metadata": {},
   "source": [
    "### Loan Prediction"
   ]
  },
  {
   "cell_type": "code",
   "execution_count": 154,
   "id": "3d352b9b",
   "metadata": {},
   "outputs": [
    {
     "data": {
      "text/html": [
       "<div>\n",
       "<style scoped>\n",
       "    .dataframe tbody tr th:only-of-type {\n",
       "        vertical-align: middle;\n",
       "    }\n",
       "\n",
       "    .dataframe tbody tr th {\n",
       "        vertical-align: top;\n",
       "    }\n",
       "\n",
       "    .dataframe thead th {\n",
       "        text-align: right;\n",
       "    }\n",
       "</style>\n",
       "<table border=\"1\" class=\"dataframe\">\n",
       "  <thead>\n",
       "    <tr style=\"text-align: right;\">\n",
       "      <th></th>\n",
       "      <th>Loan_ID</th>\n",
       "      <th>Gender</th>\n",
       "      <th>Married</th>\n",
       "      <th>Dependents</th>\n",
       "      <th>Education</th>\n",
       "      <th>Self_Employed</th>\n",
       "      <th>Applicant_Income</th>\n",
       "      <th>Coapplicant_Income</th>\n",
       "      <th>Loan_Amount</th>\n",
       "      <th>Loan_Amount_Term</th>\n",
       "      <th>Credit_History</th>\n",
       "      <th>Property_Area</th>\n",
       "      <th>Loan_Status</th>\n",
       "    </tr>\n",
       "  </thead>\n",
       "  <tbody>\n",
       "    <tr>\n",
       "      <th>0</th>\n",
       "      <td>LP001002</td>\n",
       "      <td>Male</td>\n",
       "      <td>No</td>\n",
       "      <td>0</td>\n",
       "      <td>Graduate</td>\n",
       "      <td>No</td>\n",
       "      <td>5849</td>\n",
       "      <td>0.0</td>\n",
       "      <td>NaN</td>\n",
       "      <td>360.0</td>\n",
       "      <td>1.0</td>\n",
       "      <td>Urban</td>\n",
       "      <td>Y</td>\n",
       "    </tr>\n",
       "    <tr>\n",
       "      <th>1</th>\n",
       "      <td>LP001003</td>\n",
       "      <td>Male</td>\n",
       "      <td>Yes</td>\n",
       "      <td>1</td>\n",
       "      <td>Graduate</td>\n",
       "      <td>No</td>\n",
       "      <td>4583</td>\n",
       "      <td>1508.0</td>\n",
       "      <td>128.0</td>\n",
       "      <td>360.0</td>\n",
       "      <td>1.0</td>\n",
       "      <td>Rural</td>\n",
       "      <td>N</td>\n",
       "    </tr>\n",
       "    <tr>\n",
       "      <th>2</th>\n",
       "      <td>LP001005</td>\n",
       "      <td>Male</td>\n",
       "      <td>Yes</td>\n",
       "      <td>0</td>\n",
       "      <td>Graduate</td>\n",
       "      <td>Yes</td>\n",
       "      <td>3000</td>\n",
       "      <td>0.0</td>\n",
       "      <td>66.0</td>\n",
       "      <td>360.0</td>\n",
       "      <td>1.0</td>\n",
       "      <td>Urban</td>\n",
       "      <td>Y</td>\n",
       "    </tr>\n",
       "    <tr>\n",
       "      <th>3</th>\n",
       "      <td>LP001006</td>\n",
       "      <td>Male</td>\n",
       "      <td>Yes</td>\n",
       "      <td>0</td>\n",
       "      <td>Not Graduate</td>\n",
       "      <td>No</td>\n",
       "      <td>2583</td>\n",
       "      <td>2358.0</td>\n",
       "      <td>120.0</td>\n",
       "      <td>360.0</td>\n",
       "      <td>1.0</td>\n",
       "      <td>Urban</td>\n",
       "      <td>Y</td>\n",
       "    </tr>\n",
       "    <tr>\n",
       "      <th>4</th>\n",
       "      <td>LP001008</td>\n",
       "      <td>Male</td>\n",
       "      <td>No</td>\n",
       "      <td>0</td>\n",
       "      <td>Graduate</td>\n",
       "      <td>No</td>\n",
       "      <td>6000</td>\n",
       "      <td>0.0</td>\n",
       "      <td>141.0</td>\n",
       "      <td>360.0</td>\n",
       "      <td>1.0</td>\n",
       "      <td>Urban</td>\n",
       "      <td>Y</td>\n",
       "    </tr>\n",
       "  </tbody>\n",
       "</table>\n",
       "</div>"
      ],
      "text/plain": [
       "    Loan_ID Gender Married Dependents     Education Self_Employed  \\\n",
       "0  LP001002   Male      No          0      Graduate            No   \n",
       "1  LP001003   Male     Yes          1      Graduate            No   \n",
       "2  LP001005   Male     Yes          0      Graduate           Yes   \n",
       "3  LP001006   Male     Yes          0  Not Graduate            No   \n",
       "4  LP001008   Male      No          0      Graduate            No   \n",
       "\n",
       "   Applicant_Income  Coapplicant_Income  Loan_Amount  Loan_Amount_Term  \\\n",
       "0              5849                 0.0          NaN             360.0   \n",
       "1              4583              1508.0        128.0             360.0   \n",
       "2              3000                 0.0         66.0             360.0   \n",
       "3              2583              2358.0        120.0             360.0   \n",
       "4              6000                 0.0        141.0             360.0   \n",
       "\n",
       "   Credit_History Property_Area Loan_Status  \n",
       "0             1.0         Urban           Y  \n",
       "1             1.0         Rural           N  \n",
       "2             1.0         Urban           Y  \n",
       "3             1.0         Urban           Y  \n",
       "4             1.0         Urban           Y  "
      ]
     },
     "execution_count": 154,
     "metadata": {},
     "output_type": "execute_result"
    }
   ],
   "source": [
    "import pandas as pd\n",
    "#Loading the csv data file into a pandas dataframe\n",
    "df = pd.read_csv(r'C:\\Users\\elvis\\OneDrive\\Documents\\Python\\Loan_Prediction\\csv files\\train_loan.csv') \n",
    "df.head()"
   ]
  },
  {
   "cell_type": "code",
   "execution_count": 155,
   "id": "bc4857d6",
   "metadata": {},
   "outputs": [
    {
     "data": {
      "text/plain": [
       "(614, 13)"
      ]
     },
     "execution_count": 155,
     "metadata": {},
     "output_type": "execute_result"
    }
   ],
   "source": [
    "#Dataframe Shape\n",
    "df.shape"
   ]
  },
  {
   "cell_type": "code",
   "execution_count": 156,
   "id": "3eb01c61",
   "metadata": {},
   "outputs": [
    {
     "data": {
      "text/html": [
       "<div>\n",
       "<style scoped>\n",
       "    .dataframe tbody tr th:only-of-type {\n",
       "        vertical-align: middle;\n",
       "    }\n",
       "\n",
       "    .dataframe tbody tr th {\n",
       "        vertical-align: top;\n",
       "    }\n",
       "\n",
       "    .dataframe thead th {\n",
       "        text-align: right;\n",
       "    }\n",
       "</style>\n",
       "<table border=\"1\" class=\"dataframe\">\n",
       "  <thead>\n",
       "    <tr style=\"text-align: right;\">\n",
       "      <th></th>\n",
       "      <th>count</th>\n",
       "      <th>mean</th>\n",
       "      <th>std</th>\n",
       "      <th>min</th>\n",
       "      <th>25%</th>\n",
       "      <th>50%</th>\n",
       "      <th>75%</th>\n",
       "      <th>max</th>\n",
       "    </tr>\n",
       "  </thead>\n",
       "  <tbody>\n",
       "    <tr>\n",
       "      <th>Applicant_Income</th>\n",
       "      <td>614.0</td>\n",
       "      <td>5403.459283</td>\n",
       "      <td>6109.041673</td>\n",
       "      <td>150.0</td>\n",
       "      <td>2877.5</td>\n",
       "      <td>3812.5</td>\n",
       "      <td>5795.00</td>\n",
       "      <td>81000.0</td>\n",
       "    </tr>\n",
       "    <tr>\n",
       "      <th>Coapplicant_Income</th>\n",
       "      <td>614.0</td>\n",
       "      <td>1621.245798</td>\n",
       "      <td>2926.248369</td>\n",
       "      <td>0.0</td>\n",
       "      <td>0.0</td>\n",
       "      <td>1188.5</td>\n",
       "      <td>2297.25</td>\n",
       "      <td>41667.0</td>\n",
       "    </tr>\n",
       "    <tr>\n",
       "      <th>Loan_Amount</th>\n",
       "      <td>592.0</td>\n",
       "      <td>146.412162</td>\n",
       "      <td>85.587325</td>\n",
       "      <td>9.0</td>\n",
       "      <td>100.0</td>\n",
       "      <td>128.0</td>\n",
       "      <td>168.00</td>\n",
       "      <td>700.0</td>\n",
       "    </tr>\n",
       "    <tr>\n",
       "      <th>Loan_Amount_Term</th>\n",
       "      <td>600.0</td>\n",
       "      <td>342.000000</td>\n",
       "      <td>65.120410</td>\n",
       "      <td>12.0</td>\n",
       "      <td>360.0</td>\n",
       "      <td>360.0</td>\n",
       "      <td>360.00</td>\n",
       "      <td>480.0</td>\n",
       "    </tr>\n",
       "    <tr>\n",
       "      <th>Credit_History</th>\n",
       "      <td>564.0</td>\n",
       "      <td>0.842199</td>\n",
       "      <td>0.364878</td>\n",
       "      <td>0.0</td>\n",
       "      <td>1.0</td>\n",
       "      <td>1.0</td>\n",
       "      <td>1.00</td>\n",
       "      <td>1.0</td>\n",
       "    </tr>\n",
       "  </tbody>\n",
       "</table>\n",
       "</div>"
      ],
      "text/plain": [
       "                    count         mean          std    min     25%     50%  \\\n",
       "Applicant_Income    614.0  5403.459283  6109.041673  150.0  2877.5  3812.5   \n",
       "Coapplicant_Income  614.0  1621.245798  2926.248369    0.0     0.0  1188.5   \n",
       "Loan_Amount         592.0   146.412162    85.587325    9.0   100.0   128.0   \n",
       "Loan_Amount_Term    600.0   342.000000    65.120410   12.0   360.0   360.0   \n",
       "Credit_History      564.0     0.842199     0.364878    0.0     1.0     1.0   \n",
       "\n",
       "                        75%      max  \n",
       "Applicant_Income    5795.00  81000.0  \n",
       "Coapplicant_Income  2297.25  41667.0  \n",
       "Loan_Amount          168.00    700.0  \n",
       "Loan_Amount_Term     360.00    480.0  \n",
       "Credit_History         1.00      1.0  "
      ]
     },
     "execution_count": 156,
     "metadata": {},
     "output_type": "execute_result"
    }
   ],
   "source": [
    "#Description of Numeric Data\n",
    "df.describe().T"
   ]
  },
  {
   "cell_type": "code",
   "execution_count": 157,
   "id": "854c38b1",
   "metadata": {},
   "outputs": [
    {
     "name": "stdout",
     "output_type": "stream",
     "text": [
      "<class 'pandas.core.frame.DataFrame'>\n",
      "RangeIndex: 614 entries, 0 to 613\n",
      "Data columns (total 13 columns):\n",
      " #   Column              Non-Null Count  Dtype  \n",
      "---  ------              --------------  -----  \n",
      " 0   Loan_ID             614 non-null    object \n",
      " 1   Gender              601 non-null    object \n",
      " 2   Married             611 non-null    object \n",
      " 3   Dependents          599 non-null    object \n",
      " 4   Education           614 non-null    object \n",
      " 5   Self_Employed       582 non-null    object \n",
      " 6   Applicant_Income    614 non-null    int64  \n",
      " 7   Coapplicant_Income  614 non-null    float64\n",
      " 8   Loan_Amount         592 non-null    float64\n",
      " 9   Loan_Amount_Term    600 non-null    float64\n",
      " 10  Credit_History      564 non-null    float64\n",
      " 11  Property_Area       614 non-null    object \n",
      " 12  Loan_Status         614 non-null    object \n",
      "dtypes: float64(4), int64(1), object(8)\n",
      "memory usage: 62.5+ KB\n"
     ]
    }
   ],
   "source": [
    "#Dataframe Info\n",
    "df.info()"
   ]
  },
  {
   "attachments": {},
   "cell_type": "markdown",
   "id": "10bfb415",
   "metadata": {},
   "source": [
    "From above, it is clear that there are some columns with missing values and non-numeric entries. Lets take care of that."
   ]
  },
  {
   "cell_type": "code",
   "execution_count": 158,
   "id": "46911d0a",
   "metadata": {},
   "outputs": [],
   "source": [
    "#filling in the missing values of the numeric attributes - mean\n",
    "df['Loan_Amount'] = df['Loan_Amount'].fillna(df['Loan_Amount'].mean())\n",
    "df['Loan_Amount_Term'] = df['Loan_Amount_Term'].fillna(df['Loan_Amount_Term'].mean())\n",
    "df['Credit_History'] = df['Credit_History'].fillna(df['Credit_History'].mean())"
   ]
  },
  {
   "cell_type": "code",
   "execution_count": 159,
   "id": "f970253d",
   "metadata": {},
   "outputs": [],
   "source": [
    "#filling the missing values for the categorical attributes- mode\n",
    "df['Gender']=df['Gender'].fillna(df['Gender'].mode()[0])\n",
    "df['Married']=df['Married'].fillna(df['Married'].mode()[0])\n",
    "df['Dependents']=df['Dependents'].fillna(df['Dependents'].mode()[0])\n",
    "df['Self_Employed']=df['Self_Employed'].fillna(df['Self_Employed'].mode()[0])"
   ]
  },
  {
   "attachments": {},
   "cell_type": "markdown",
   "id": "899a03e0",
   "metadata": {},
   "source": [
    "Checking for Missing Values"
   ]
  },
  {
   "cell_type": "code",
   "execution_count": 160,
   "id": "4b9d309b",
   "metadata": {},
   "outputs": [
    {
     "data": {
      "text/plain": [
       "Loan_ID               0\n",
       "Gender                0\n",
       "Married               0\n",
       "Dependents            0\n",
       "Education             0\n",
       "Self_Employed         0\n",
       "Applicant_Income      0\n",
       "Coapplicant_Income    0\n",
       "Loan_Amount           0\n",
       "Loan_Amount_Term      0\n",
       "Credit_History        0\n",
       "Property_Area         0\n",
       "Loan_Status           0\n",
       "dtype: int64"
      ]
     },
     "execution_count": 160,
     "metadata": {},
     "output_type": "execute_result"
    }
   ],
   "source": [
    "df.isnull().sum()"
   ]
  },
  {
   "attachments": {},
   "cell_type": "markdown",
   "id": "b4aa3352",
   "metadata": {},
   "source": [
    "Exploratory Data Analysis"
   ]
  },
  {
   "cell_type": "code",
   "execution_count": 161,
   "id": "d89ed9e1",
   "metadata": {},
   "outputs": [
    {
     "data": {
      "text/plain": [
       "<AxesSubplot: xlabel='Property_Area', ylabel='Count'>"
      ]
     },
     "execution_count": 161,
     "metadata": {},
     "output_type": "execute_result"
    },
    {
     "data": {
      "image/png": "[encoded data removed]",
      "text/plain": [
       "<Figure size 1600x800 with 6 Axes>"
      ]
     },
     "metadata": {},
     "output_type": "display_data"
    }
   ],
   "source": [
    "import seaborn as sbn\n",
    "import matplotlib.pyplot as plt\n",
    "\n",
    "#Categorical attributes visualization\n",
    "fig,axs = plt.subplots(nrows=2, ncols=3, figsize=(16,8))            \n",
    "sbn.histplot(data=df, x=\"Gender\",hue=\"Gender\", legend=False, ax=axs[0,0],edgecolor='blue')\n",
    "sbn.histplot(data=df, x=\"Married\",hue=\"Married\", legend=False, ax=axs[0,1],edgecolor='none')\n",
    "sbn.histplot(data=df, x=\"Dependents\",hue=\"Dependents\", legend=False, ax=axs[0,2],edgecolor='none')\n",
    "sbn.histplot(data=df, x=\"Education\",hue=\"Education\", legend=False, ax=axs[1,0],edgecolor='none')\n",
    "sbn.histplot(data=df, x=\"Self_Employed\",hue=\"Self_Employed\", legend=False, ax=axs[1,1],edgecolor='none')\n",
    "sbn.histplot(data=df, x=\"Property_Area\",hue=\"Property_Area\", legend=False, ax=axs[1,2],edgecolor='none')"
   ]
  },
  {
   "cell_type": "code",
   "execution_count": 162,
   "id": "91933894",
   "metadata": {},
   "outputs": [
    {
     "data": {
      "text/plain": [
       "<seaborn.axisgrid.FacetGrid at 0x24b90279840>"
      ]
     },
     "execution_count": 162,
     "metadata": {},
     "output_type": "execute_result"
    },
    {
     "data": {
      "image/png": "[encoded data removed]",
      "text/plain": [
       "<Figure size 500x500 with 1 Axes>"
      ]
     },
     "metadata": {},
     "output_type": "display_data"
    }
   ],
   "source": [
    "# numerical attributes visualization\n",
    "sbn.displot(df['Applicant_Income'])"
   ]
  },
  {
   "cell_type": "code",
   "execution_count": 163,
   "id": "3c531198",
   "metadata": {},
   "outputs": [
    {
     "data": {
      "text/plain": [
       "<seaborn.axisgrid.FacetGrid at 0x24b9041a920>"
      ]
     },
     "execution_count": 163,
     "metadata": {},
     "output_type": "execute_result"
    },
    {
     "data": {
      "image/png": "[encoded data removed]",
      "text/plain": [
       "<Figure size 500x500 with 1 Axes>"
      ]
     },
     "metadata": {},
     "output_type": "display_data"
    }
   ],
   "source": [
    "sbn.displot(df['Coapplicant_Income'])"
   ]
  },
  {
   "cell_type": "code",
   "execution_count": 164,
   "id": "35953100",
   "metadata": {},
   "outputs": [
    {
     "data": {
      "text/plain": [
       "<seaborn.axisgrid.FacetGrid at 0x24b90491ff0>"
      ]
     },
     "execution_count": 164,
     "metadata": {},
     "output_type": "execute_result"
    },
    {
     "data": {
      "image/png": "[encoded data removed]",
      "text/plain": [
       "<Figure size 500x500 with 1 Axes>"
      ]
     },
     "metadata": {},
     "output_type": "display_data"
    }
   ],
   "source": [
    "sbn.displot(df['Loan_Amount'])"
   ]
  },
  {
   "attachments": {},
   "cell_type": "markdown",
   "id": "fc71f9a4",
   "metadata": {},
   "source": [
    "From the visualizations of the numeric attributes there is evidence that there is skewness in all the numeric attributes and therefore Normalization is required."
   ]
  },
  {
   "attachments": {},
   "cell_type": "markdown",
   "id": "0f9f0485",
   "metadata": {},
   "source": [
    "Creation of a new Attribute"
   ]
  },
  {
   "cell_type": "code",
   "execution_count": 165,
   "id": "22e9f295",
   "metadata": {},
   "outputs": [
    {
     "data": {
      "text/html": [
       "<div>\n",
       "<style scoped>\n",
       "    .dataframe tbody tr th:only-of-type {\n",
       "        vertical-align: middle;\n",
       "    }\n",
       "\n",
       "    .dataframe tbody tr th {\n",
       "        vertical-align: top;\n",
       "    }\n",
       "\n",
       "    .dataframe thead th {\n",
       "        text-align: right;\n",
       "    }\n",
       "</style>\n",
       "<table border=\"1\" class=\"dataframe\">\n",
       "  <thead>\n",
       "    <tr style=\"text-align: right;\">\n",
       "      <th></th>\n",
       "      <th>Loan_ID</th>\n",
       "      <th>Gender</th>\n",
       "      <th>Married</th>\n",
       "      <th>Dependents</th>\n",
       "      <th>Education</th>\n",
       "      <th>Self_Employed</th>\n",
       "      <th>Applicant_Income</th>\n",
       "      <th>Coapplicant_Income</th>\n",
       "      <th>Loan_Amount</th>\n",
       "      <th>Loan_Amount_Term</th>\n",
       "      <th>Credit_History</th>\n",
       "      <th>Property_Area</th>\n",
       "      <th>Loan_Status</th>\n",
       "      <th>Total_Income</th>\n",
       "    </tr>\n",
       "  </thead>\n",
       "  <tbody>\n",
       "    <tr>\n",
       "      <th>0</th>\n",
       "      <td>LP001002</td>\n",
       "      <td>Male</td>\n",
       "      <td>No</td>\n",
       "      <td>0</td>\n",
       "      <td>Graduate</td>\n",
       "      <td>No</td>\n",
       "      <td>5849</td>\n",
       "      <td>0.0</td>\n",
       "      <td>146.412162</td>\n",
       "      <td>360.0</td>\n",
       "      <td>1.0</td>\n",
       "      <td>Urban</td>\n",
       "      <td>Y</td>\n",
       "      <td>5849.0</td>\n",
       "    </tr>\n",
       "    <tr>\n",
       "      <th>1</th>\n",
       "      <td>LP001003</td>\n",
       "      <td>Male</td>\n",
       "      <td>Yes</td>\n",
       "      <td>1</td>\n",
       "      <td>Graduate</td>\n",
       "      <td>No</td>\n",
       "      <td>4583</td>\n",
       "      <td>1508.0</td>\n",
       "      <td>128.000000</td>\n",
       "      <td>360.0</td>\n",
       "      <td>1.0</td>\n",
       "      <td>Rural</td>\n",
       "      <td>N</td>\n",
       "      <td>6091.0</td>\n",
       "    </tr>\n",
       "    <tr>\n",
       "      <th>2</th>\n",
       "      <td>LP001005</td>\n",
       "      <td>Male</td>\n",
       "      <td>Yes</td>\n",
       "      <td>0</td>\n",
       "      <td>Graduate</td>\n",
       "      <td>Yes</td>\n",
       "      <td>3000</td>\n",
       "      <td>0.0</td>\n",
       "      <td>66.000000</td>\n",
       "      <td>360.0</td>\n",
       "      <td>1.0</td>\n",
       "      <td>Urban</td>\n",
       "      <td>Y</td>\n",
       "      <td>3000.0</td>\n",
       "    </tr>\n",
       "    <tr>\n",
       "      <th>3</th>\n",
       "      <td>LP001006</td>\n",
       "      <td>Male</td>\n",
       "      <td>Yes</td>\n",
       "      <td>0</td>\n",
       "      <td>Not Graduate</td>\n",
       "      <td>No</td>\n",
       "      <td>2583</td>\n",
       "      <td>2358.0</td>\n",
       "      <td>120.000000</td>\n",
       "      <td>360.0</td>\n",
       "      <td>1.0</td>\n",
       "      <td>Urban</td>\n",
       "      <td>Y</td>\n",
       "      <td>4941.0</td>\n",
       "    </tr>\n",
       "    <tr>\n",
       "      <th>4</th>\n",
       "      <td>LP001008</td>\n",
       "      <td>Male</td>\n",
       "      <td>No</td>\n",
       "      <td>0</td>\n",
       "      <td>Graduate</td>\n",
       "      <td>No</td>\n",
       "      <td>6000</td>\n",
       "      <td>0.0</td>\n",
       "      <td>141.000000</td>\n",
       "      <td>360.0</td>\n",
       "      <td>1.0</td>\n",
       "      <td>Urban</td>\n",
       "      <td>Y</td>\n",
       "      <td>6000.0</td>\n",
       "    </tr>\n",
       "  </tbody>\n",
       "</table>\n",
       "</div>"
      ],
      "text/plain": [
       "    Loan_ID Gender Married Dependents     Education Self_Employed  \\\n",
       "0  LP001002   Male      No          0      Graduate            No   \n",
       "1  LP001003   Male     Yes          1      Graduate            No   \n",
       "2  LP001005   Male     Yes          0      Graduate           Yes   \n",
       "3  LP001006   Male     Yes          0  Not Graduate            No   \n",
       "4  LP001008   Male      No          0      Graduate            No   \n",
       "\n",
       "   Applicant_Income  Coapplicant_Income  Loan_Amount  Loan_Amount_Term  \\\n",
       "0              5849                 0.0   146.412162             360.0   \n",
       "1              4583              1508.0   128.000000             360.0   \n",
       "2              3000                 0.0    66.000000             360.0   \n",
       "3              2583              2358.0   120.000000             360.0   \n",
       "4              6000                 0.0   141.000000             360.0   \n",
       "\n",
       "   Credit_History Property_Area Loan_Status  Total_Income  \n",
       "0             1.0         Urban           Y        5849.0  \n",
       "1             1.0         Rural           N        6091.0  \n",
       "2             1.0         Urban           Y        3000.0  \n",
       "3             1.0         Urban           Y        4941.0  \n",
       "4             1.0         Urban           Y        6000.0  "
      ]
     },
     "execution_count": 165,
     "metadata": {},
     "output_type": "execute_result"
    }
   ],
   "source": [
    "df['Total_Income'] = df['Applicant_Income'] + df['Coapplicant_Income']\n",
    "df.head()"
   ]
  },
  {
   "attachments": {},
   "cell_type": "markdown",
   "id": "71d120c2",
   "metadata": {},
   "source": [
    "Dropping Non-Informative Columns"
   ]
  },
  {
   "cell_type": "code",
   "execution_count": 166,
   "id": "01872337",
   "metadata": {},
   "outputs": [
    {
     "data": {
      "text/html": [
       "<div>\n",
       "<style scoped>\n",
       "    .dataframe tbody tr th:only-of-type {\n",
       "        vertical-align: middle;\n",
       "    }\n",
       "\n",
       "    .dataframe tbody tr th {\n",
       "        vertical-align: top;\n",
       "    }\n",
       "\n",
       "    .dataframe thead th {\n",
       "        text-align: right;\n",
       "    }\n",
       "</style>\n",
       "<table border=\"1\" class=\"dataframe\">\n",
       "  <thead>\n",
       "    <tr style=\"text-align: right;\">\n",
       "      <th></th>\n",
       "      <th>Gender</th>\n",
       "      <th>Married</th>\n",
       "      <th>Dependents</th>\n",
       "      <th>Education</th>\n",
       "      <th>Self_Employed</th>\n",
       "      <th>Applicant_Income</th>\n",
       "      <th>Coapplicant_Income</th>\n",
       "      <th>Loan_Amount</th>\n",
       "      <th>Loan_Amount_Term</th>\n",
       "      <th>Credit_History</th>\n",
       "      <th>Property_Area</th>\n",
       "      <th>Loan_Status</th>\n",
       "      <th>Total_Income</th>\n",
       "    </tr>\n",
       "  </thead>\n",
       "  <tbody>\n",
       "    <tr>\n",
       "      <th>0</th>\n",
       "      <td>Male</td>\n",
       "      <td>No</td>\n",
       "      <td>0</td>\n",
       "      <td>Graduate</td>\n",
       "      <td>No</td>\n",
       "      <td>5849</td>\n",
       "      <td>0.0</td>\n",
       "      <td>146.412162</td>\n",
       "      <td>360.0</td>\n",
       "      <td>1.0</td>\n",
       "      <td>Urban</td>\n",
       "      <td>Y</td>\n",
       "      <td>5849.0</td>\n",
       "    </tr>\n",
       "    <tr>\n",
       "      <th>1</th>\n",
       "      <td>Male</td>\n",
       "      <td>Yes</td>\n",
       "      <td>1</td>\n",
       "      <td>Graduate</td>\n",
       "      <td>No</td>\n",
       "      <td>4583</td>\n",
       "      <td>1508.0</td>\n",
       "      <td>128.000000</td>\n",
       "      <td>360.0</td>\n",
       "      <td>1.0</td>\n",
       "      <td>Rural</td>\n",
       "      <td>N</td>\n",
       "      <td>6091.0</td>\n",
       "    </tr>\n",
       "    <tr>\n",
       "      <th>2</th>\n",
       "      <td>Male</td>\n",
       "      <td>Yes</td>\n",
       "      <td>0</td>\n",
       "      <td>Graduate</td>\n",
       "      <td>Yes</td>\n",
       "      <td>3000</td>\n",
       "      <td>0.0</td>\n",
       "      <td>66.000000</td>\n",
       "      <td>360.0</td>\n",
       "      <td>1.0</td>\n",
       "      <td>Urban</td>\n",
       "      <td>Y</td>\n",
       "      <td>3000.0</td>\n",
       "    </tr>\n",
       "    <tr>\n",
       "      <th>3</th>\n",
       "      <td>Male</td>\n",
       "      <td>Yes</td>\n",
       "      <td>0</td>\n",
       "      <td>Not Graduate</td>\n",
       "      <td>No</td>\n",
       "      <td>2583</td>\n",
       "      <td>2358.0</td>\n",
       "      <td>120.000000</td>\n",
       "      <td>360.0</td>\n",
       "      <td>1.0</td>\n",
       "      <td>Urban</td>\n",
       "      <td>Y</td>\n",
       "      <td>4941.0</td>\n",
       "    </tr>\n",
       "    <tr>\n",
       "      <th>4</th>\n",
       "      <td>Male</td>\n",
       "      <td>No</td>\n",
       "      <td>0</td>\n",
       "      <td>Graduate</td>\n",
       "      <td>No</td>\n",
       "      <td>6000</td>\n",
       "      <td>0.0</td>\n",
       "      <td>141.000000</td>\n",
       "      <td>360.0</td>\n",
       "      <td>1.0</td>\n",
       "      <td>Urban</td>\n",
       "      <td>Y</td>\n",
       "      <td>6000.0</td>\n",
       "    </tr>\n",
       "  </tbody>\n",
       "</table>\n",
       "</div>"
      ],
      "text/plain": [
       "  Gender Married Dependents     Education Self_Employed  Applicant_Income  \\\n",
       "0   Male      No          0      Graduate            No              5849   \n",
       "1   Male     Yes          1      Graduate            No              4583   \n",
       "2   Male     Yes          0      Graduate           Yes              3000   \n",
       "3   Male     Yes          0  Not Graduate            No              2583   \n",
       "4   Male      No          0      Graduate            No              6000   \n",
       "\n",
       "   Coapplicant_Income  Loan_Amount  Loan_Amount_Term  Credit_History  \\\n",
       "0                 0.0   146.412162             360.0             1.0   \n",
       "1              1508.0   128.000000             360.0             1.0   \n",
       "2                 0.0    66.000000             360.0             1.0   \n",
       "3              2358.0   120.000000             360.0             1.0   \n",
       "4                 0.0   141.000000             360.0             1.0   \n",
       "\n",
       "  Property_Area Loan_Status  Total_Income  \n",
       "0         Urban           Y        5849.0  \n",
       "1         Rural           N        6091.0  \n",
       "2         Urban           Y        3000.0  \n",
       "3         Urban           Y        4941.0  \n",
       "4         Urban           Y        6000.0  "
      ]
     },
     "execution_count": 166,
     "metadata": {},
     "output_type": "execute_result"
    }
   ],
   "source": [
    "df = df.drop(['Loan_ID'],axis = 1)\n",
    "df.head()"
   ]
  },
  {
   "attachments": {},
   "cell_type": "markdown",
   "id": "89609574",
   "metadata": {},
   "source": [
    "Feature Correlation"
   ]
  },
  {
   "cell_type": "code",
   "execution_count": 167,
   "id": "d7ad522e",
   "metadata": {},
   "outputs": [
    {
     "name": "stderr",
     "output_type": "stream",
     "text": [
      "C:\\Users\\elvis\\AppData\\Local\\Temp\\ipykernel_16128\\772658511.py:1: FutureWarning: The default value of numeric_only in DataFrame.corr is deprecated. In a future version, it will default to False. Select only valid columns or specify the value of numeric_only to silence this warning.\n",
      "  corr = df.corr()\n"
     ]
    },
    {
     "data": {
      "text/plain": [
       "<AxesSubplot: >"
      ]
     },
     "execution_count": 167,
     "metadata": {},
     "output_type": "execute_result"
    },
    {
     "data": {
      "image/png": "[encoded data removed]",
      "text/plain": [
       "<Figure size 1000x600 with 2 Axes>"
      ]
     },
     "metadata": {},
     "output_type": "display_data"
    }
   ],
   "source": [
    "corr = df.corr()\n",
    "plt.figure(figsize=(10,6))\n",
    "sbn.heatmap(corr, annot = True, cmap=\"BuPu\")\n"
   ]
  },
  {
   "attachments": {},
   "cell_type": "markdown",
   "id": "95501fca",
   "metadata": {},
   "source": [
    "Label Encoding"
   ]
  },
  {
   "cell_type": "code",
   "execution_count": 168,
   "id": "300158ab",
   "metadata": {},
   "outputs": [
    {
     "name": "stdout",
     "output_type": "stream",
     "text": [
      "<class 'pandas.core.frame.DataFrame'>\n",
      "RangeIndex: 614 entries, 0 to 613\n",
      "Data columns (total 13 columns):\n",
      " #   Column              Non-Null Count  Dtype  \n",
      "---  ------              --------------  -----  \n",
      " 0   Gender              614 non-null    int32  \n",
      " 1   Married             614 non-null    int32  \n",
      " 2   Dependents          614 non-null    int32  \n",
      " 3   Education           614 non-null    int32  \n",
      " 4   Self_Employed       614 non-null    int32  \n",
      " 5   Applicant_Income    614 non-null    int64  \n",
      " 6   Coapplicant_Income  614 non-null    float64\n",
      " 7   Loan_Amount         614 non-null    float64\n",
      " 8   Loan_Amount_Term    614 non-null    float64\n",
      " 9   Credit_History      614 non-null    float64\n",
      " 10  Property_Area       614 non-null    int32  \n",
      " 11  Loan_Status         614 non-null    int32  \n",
      " 12  Total_Income        614 non-null    float64\n",
      "dtypes: float64(5), int32(7), int64(1)\n",
      "memory usage: 45.7 KB\n"
     ]
    }
   ],
   "source": [
    "from sklearn.preprocessing import LabelEncoder\n",
    "\n",
    "\n",
    "cols = ['Gender',\"Married\",\"Education\",'Self_Employed',\"Property_Area\",\"Loan_Status\",\"Dependents\"]\n",
    "le = LabelEncoder()\n",
    "for col in cols:\n",
    "    df[col] = le.fit_transform(df[col])\n",
    "\n",
    "df.info()    "
   ]
  },
  {
   "attachments": {},
   "cell_type": "markdown",
   "id": "d3b81a01",
   "metadata": {},
   "source": [
    "Normalization\n",
    "\n",
    "Dropping the Labels before Normalization"
   ]
  },
  {
   "cell_type": "code",
   "execution_count": 169,
   "id": "9c75a71c",
   "metadata": {},
   "outputs": [],
   "source": [
    "x = df.drop(['Loan_Status'],axis = 1)\n",
    "y = df ['Loan_Status']"
   ]
  },
  {
   "cell_type": "code",
   "execution_count": 170,
   "id": "d45aa301",
   "metadata": {},
   "outputs": [
    {
     "data": {
      "text/html": [
       "<div>\n",
       "<style scoped>\n",
       "    .dataframe tbody tr th:only-of-type {\n",
       "        vertical-align: middle;\n",
       "    }\n",
       "\n",
       "    .dataframe tbody tr th {\n",
       "        vertical-align: top;\n",
       "    }\n",
       "\n",
       "    .dataframe thead th {\n",
       "        text-align: right;\n",
       "    }\n",
       "</style>\n",
       "<table border=\"1\" class=\"dataframe\">\n",
       "  <thead>\n",
       "    <tr style=\"text-align: right;\">\n",
       "      <th></th>\n",
       "      <th>0</th>\n",
       "      <th>1</th>\n",
       "      <th>2</th>\n",
       "      <th>3</th>\n",
       "      <th>4</th>\n",
       "      <th>5</th>\n",
       "      <th>6</th>\n",
       "      <th>7</th>\n",
       "      <th>8</th>\n",
       "      <th>9</th>\n",
       "      <th>10</th>\n",
       "      <th>11</th>\n",
       "    </tr>\n",
       "  </thead>\n",
       "  <tbody>\n",
       "    <tr>\n",
       "      <th>0</th>\n",
       "      <td>1.0</td>\n",
       "      <td>0.0</td>\n",
       "      <td>0.000000</td>\n",
       "      <td>0.0</td>\n",
       "      <td>0.0</td>\n",
       "      <td>0.070489</td>\n",
       "      <td>0.000000</td>\n",
       "      <td>0.198860</td>\n",
       "      <td>0.74359</td>\n",
       "      <td>1.0</td>\n",
       "      <td>1.0</td>\n",
       "      <td>0.055394</td>\n",
       "    </tr>\n",
       "    <tr>\n",
       "      <th>1</th>\n",
       "      <td>1.0</td>\n",
       "      <td>1.0</td>\n",
       "      <td>0.333333</td>\n",
       "      <td>0.0</td>\n",
       "      <td>0.0</td>\n",
       "      <td>0.054830</td>\n",
       "      <td>0.036192</td>\n",
       "      <td>0.172214</td>\n",
       "      <td>0.74359</td>\n",
       "      <td>1.0</td>\n",
       "      <td>0.0</td>\n",
       "      <td>0.058435</td>\n",
       "    </tr>\n",
       "    <tr>\n",
       "      <th>2</th>\n",
       "      <td>1.0</td>\n",
       "      <td>1.0</td>\n",
       "      <td>0.000000</td>\n",
       "      <td>0.0</td>\n",
       "      <td>1.0</td>\n",
       "      <td>0.035250</td>\n",
       "      <td>0.000000</td>\n",
       "      <td>0.082489</td>\n",
       "      <td>0.74359</td>\n",
       "      <td>1.0</td>\n",
       "      <td>1.0</td>\n",
       "      <td>0.019583</td>\n",
       "    </tr>\n",
       "    <tr>\n",
       "      <th>3</th>\n",
       "      <td>1.0</td>\n",
       "      <td>1.0</td>\n",
       "      <td>0.000000</td>\n",
       "      <td>1.0</td>\n",
       "      <td>0.0</td>\n",
       "      <td>0.030093</td>\n",
       "      <td>0.056592</td>\n",
       "      <td>0.160637</td>\n",
       "      <td>0.74359</td>\n",
       "      <td>1.0</td>\n",
       "      <td>1.0</td>\n",
       "      <td>0.043980</td>\n",
       "    </tr>\n",
       "    <tr>\n",
       "      <th>4</th>\n",
       "      <td>1.0</td>\n",
       "      <td>0.0</td>\n",
       "      <td>0.000000</td>\n",
       "      <td>0.0</td>\n",
       "      <td>0.0</td>\n",
       "      <td>0.072356</td>\n",
       "      <td>0.000000</td>\n",
       "      <td>0.191027</td>\n",
       "      <td>0.74359</td>\n",
       "      <td>1.0</td>\n",
       "      <td>1.0</td>\n",
       "      <td>0.057292</td>\n",
       "    </tr>\n",
       "  </tbody>\n",
       "</table>\n",
       "</div>"
      ],
      "text/plain": [
       "    0    1         2    3    4         5         6         7        8    9   \\\n",
       "0  1.0  0.0  0.000000  0.0  0.0  0.070489  0.000000  0.198860  0.74359  1.0   \n",
       "1  1.0  1.0  0.333333  0.0  0.0  0.054830  0.036192  0.172214  0.74359  1.0   \n",
       "2  1.0  1.0  0.000000  0.0  1.0  0.035250  0.000000  0.082489  0.74359  1.0   \n",
       "3  1.0  1.0  0.000000  1.0  0.0  0.030093  0.056592  0.160637  0.74359  1.0   \n",
       "4  1.0  0.0  0.000000  0.0  0.0  0.072356  0.000000  0.191027  0.74359  1.0   \n",
       "\n",
       "    10        11  \n",
       "0  1.0  0.055394  \n",
       "1  0.0  0.058435  \n",
       "2  1.0  0.019583  \n",
       "3  1.0  0.043980  \n",
       "4  1.0  0.057292  "
      ]
     },
     "execution_count": 170,
     "metadata": {},
     "output_type": "execute_result"
    }
   ],
   "source": [
    "from sklearn.preprocessing import MinMaxScaler\n",
    "\n",
    "scaler = MinMaxScaler(feature_range=(0,1))\n",
    "x = scaler.fit_transform(x)\n",
    "x = pd.DataFrame(x)\n",
    "x.head()"
   ]
  },
  {
   "attachments": {},
   "cell_type": "markdown",
   "id": "a891c519",
   "metadata": {},
   "source": [
    "Train - Test Split"
   ]
  },
  {
   "cell_type": "code",
   "execution_count": 171,
   "id": "59f8b40f",
   "metadata": {},
   "outputs": [],
   "source": [
    "from sklearn.model_selection import train_test_split\n",
    "\n",
    "x_train,x_test,y_train,y_test = train_test_split(x,y,stratify = y, test_size=0.3, random_state=1)"
   ]
  },
  {
   "cell_type": "code",
   "execution_count": 172,
   "id": "8044d5a1",
   "metadata": {},
   "outputs": [
    {
     "name": "stdout",
     "output_type": "stream",
     "text": [
      "Counter({1: 422, 0: 192})\n"
     ]
    }
   ],
   "source": [
    "#Label summary\n",
    "\n",
    "from collections import Counter\n",
    "counter = Counter(y)\n",
    "print(counter)"
   ]
  },
  {
   "cell_type": "code",
   "execution_count": 173,
   "id": "94558d28",
   "metadata": {},
   "outputs": [
    {
     "name": "stdout",
     "output_type": "stream",
     "text": [
      "0.8162162162162162\n"
     ]
    }
   ],
   "source": [
    "#SVM Classifier\n",
    "\n",
    "from sklearn import svm\n",
    "from sklearn.svm import SVC\n",
    "\n",
    "clf = SVC(probability=True)\n",
    "model = clf.fit(x_train,y_train)\n",
    "\n",
    "classifier_score = model.score(x_test,y_test)\n",
    "print(classifier_score)"
   ]
  },
  {
   "cell_type": "code",
   "execution_count": 174,
   "id": "f39f11fb",
   "metadata": {},
   "outputs": [
    {
     "data": {
      "text/plain": [
       "array([1, 1, 1, 1, 1, 1, 1, 1, 0, 1, 1, 1, 1, 1, 1, 0, 1, 1, 1, 0, 1, 1,\n",
       "       1, 1, 1, 1, 1, 1, 0, 1, 1, 1, 1, 1, 1, 1, 1, 1, 0, 1, 1, 1, 1, 0,\n",
       "       1, 1, 1, 1, 1, 1, 1, 1, 0, 1, 1, 1, 1, 0, 1, 1, 1, 1, 1, 1, 1, 1,\n",
       "       0, 1, 1, 1, 1, 1, 1, 1, 1, 1, 1, 1, 1, 1, 0, 1, 1, 1, 1, 1, 1, 1,\n",
       "       1, 0, 1, 0, 1, 1, 0, 1, 1, 1, 1, 1, 1, 1, 1, 1, 1, 1, 1, 1, 1, 1,\n",
       "       1, 1, 0, 1, 1, 0, 1, 1, 1, 1, 1, 1, 1, 1, 1, 1, 1, 1, 1, 1, 1, 0,\n",
       "       1, 0, 0, 1, 1, 1, 1, 0, 1, 1, 1, 1, 1, 1, 1, 1, 1, 1, 1, 1, 0, 0,\n",
       "       1, 1, 1, 1, 1, 1, 0, 1, 1, 1, 1, 1, 1, 1, 1, 0, 1, 1, 0, 1, 1, 1,\n",
       "       1, 1, 1, 1, 1, 1, 1, 1, 1])"
      ]
     },
     "execution_count": 174,
     "metadata": {},
     "output_type": "execute_result"
    }
   ],
   "source": [
    "y_pred = clf.fit(x_train,y_train).predict(x_test)\n",
    "y_pred"
   ]
  },
  {
   "cell_type": "code",
   "execution_count": 184,
   "id": "1b02faa6",
   "metadata": {},
   "outputs": [
    {
     "name": "stdout",
     "output_type": "stream",
     "text": [
      "\n",
      "The 3-fold cross-validation accuracy score for this classifier is 0.81\n",
      "\n"
     ]
    }
   ],
   "source": [
    "# An average of 3-fold cross-validation score using an SVC estimator.\n",
    "import numpy as np\n",
    "from sklearn.model_selection import cross_val_score\n",
    "n_folds = 3\n",
    "cv_error = np.average(cross_val_score(SVC(),x,y,cv=n_folds))\n",
    "print('\\nThe {}-fold cross-validation accuracy score for this classifier is {:.2f}\\n'.format(n_folds, cv_error))"
   ]
  },
  {
   "cell_type": "code",
   "execution_count": 176,
   "id": "323cdabc",
   "metadata": {},
   "outputs": [
    {
     "name": "stdout",
     "output_type": "stream",
     "text": [
      "[[ 24  34]\n",
      " [  0 127]]\n"
     ]
    },
    {
     "data": {
      "text/plain": [
       "<AxesSubplot: >"
      ]
     },
     "execution_count": 176,
     "metadata": {},
     "output_type": "execute_result"
    },
    {
     "data": {
      "image/png": "[encoded data removed]",
      "text/plain": [
       "<Figure size 640x480 with 2 Axes>"
      ]
     },
     "metadata": {},
     "output_type": "display_data"
    }
   ],
   "source": [
    "#Confusion matrix\n",
    "from sklearn.metrics import confusion_matrix\n",
    "\n",
    "cm = confusion_matrix(y_test,y_pred)\n",
    "print(cm)\n",
    "sbn.heatmap(cm,annot=True)"
   ]
  },
  {
   "cell_type": "code",
   "execution_count": 177,
   "id": "0f6349f6",
   "metadata": {},
   "outputs": [
    {
     "data": {
      "text/html": [
       "<div>\n",
       "<style scoped>\n",
       "    .dataframe tbody tr th:only-of-type {\n",
       "        vertical-align: middle;\n",
       "    }\n",
       "\n",
       "    .dataframe tbody tr th {\n",
       "        vertical-align: top;\n",
       "    }\n",
       "\n",
       "    .dataframe thead th {\n",
       "        text-align: right;\n",
       "    }\n",
       "</style>\n",
       "<table border=\"1\" class=\"dataframe\">\n",
       "  <thead>\n",
       "    <tr style=\"text-align: right;\">\n",
       "      <th></th>\n",
       "      <th>precision</th>\n",
       "      <th>recall</th>\n",
       "      <th>f1-score</th>\n",
       "      <th>support</th>\n",
       "    </tr>\n",
       "  </thead>\n",
       "  <tbody>\n",
       "    <tr>\n",
       "      <th>0</th>\n",
       "      <td>1.000000</td>\n",
       "      <td>0.413793</td>\n",
       "      <td>0.585366</td>\n",
       "      <td>58.000000</td>\n",
       "    </tr>\n",
       "    <tr>\n",
       "      <th>1</th>\n",
       "      <td>0.788820</td>\n",
       "      <td>1.000000</td>\n",
       "      <td>0.881944</td>\n",
       "      <td>127.000000</td>\n",
       "    </tr>\n",
       "    <tr>\n",
       "      <th>accuracy</th>\n",
       "      <td>0.816216</td>\n",
       "      <td>0.816216</td>\n",
       "      <td>0.816216</td>\n",
       "      <td>0.816216</td>\n",
       "    </tr>\n",
       "    <tr>\n",
       "      <th>macro avg</th>\n",
       "      <td>0.894410</td>\n",
       "      <td>0.706897</td>\n",
       "      <td>0.733655</td>\n",
       "      <td>185.000000</td>\n",
       "    </tr>\n",
       "    <tr>\n",
       "      <th>weighted avg</th>\n",
       "      <td>0.855028</td>\n",
       "      <td>0.816216</td>\n",
       "      <td>0.788963</td>\n",
       "      <td>185.000000</td>\n",
       "    </tr>\n",
       "  </tbody>\n",
       "</table>\n",
       "</div>"
      ],
      "text/plain": [
       "              precision    recall  f1-score     support\n",
       "0              1.000000  0.413793  0.585366   58.000000\n",
       "1              0.788820  1.000000  0.881944  127.000000\n",
       "accuracy       0.816216  0.816216  0.816216    0.816216\n",
       "macro avg      0.894410  0.706897  0.733655  185.000000\n",
       "weighted avg   0.855028  0.816216  0.788963  185.000000"
      ]
     },
     "execution_count": 177,
     "metadata": {},
     "output_type": "execute_result"
    }
   ],
   "source": [
    "from sklearn.metrics import classification_report\n",
    "pd.DataFrame(classification_report(y_test,y_pred,output_dict=True)).T"
   ]
  },
  {
   "attachments": {},
   "cell_type": "markdown",
   "id": "f2837777",
   "metadata": {},
   "source": [
    "Creating Model function to test multiple models and choose the ideal one "
   ]
  },
  {
   "cell_type": "code",
   "execution_count": 178,
   "id": "d48e5849",
   "metadata": {},
   "outputs": [],
   "source": [
    "from sklearn.metrics import accuracy_score\n",
    "def mymodel(model):\n",
    "    model.fit(x_train,y_train)\n",
    "    y_pred = model.predict(x_test)\n",
    "    train_accuracy = model.score(x_train,y_train)\n",
    "    test_accuracy = model.score(x_test,y_test)\n",
    "    print(str(model)[:-2],'Accuracy')\n",
    "    print('Accuracy:',accuracy_score(y_test,y_pred),'\\nClassification Report:\\n',classification_report(y_test,y_pred),'\\nConfusion Matrix: \\n', confusion_matrix(y_test,y_pred))\n",
    "    print(f'Training Accuracy: {train_accuracy}\\nTesting Accuracy :{test_accuracy}')\n",
    "    print()\n",
    "    print()\n",
    "    return model\n"
   ]
  },
  {
   "attachments": {},
   "cell_type": "markdown",
   "id": "e62339c0",
   "metadata": {},
   "source": [
    "KNN Hypertuning"
   ]
  },
  {
   "cell_type": "code",
   "execution_count": 179,
   "id": "a8448496",
   "metadata": {},
   "outputs": [
    {
     "data": {
      "text/plain": [
       "[<matplotlib.lines.Line2D at 0x24b91e95ed0>]"
      ]
     },
     "execution_count": 179,
     "metadata": {},
     "output_type": "execute_result"
    },
    {
     "data": {
      "image/png": "[encoded data removed]",
      "text/plain": [
       "<Figure size 640x480 with 1 Axes>"
      ]
     },
     "metadata": {},
     "output_type": "display_data"
    }
   ],
   "source": [
    "from sklearn.neighbors import KNeighborsClassifier\n",
    "tr=[]\n",
    "te=[]\n",
    "for i in range(1,31):\n",
    "    knn=KNeighborsClassifier(n_neighbors=i)\n",
    "    knn.fit(x_train,y_train)\n",
    "    \n",
    "    train=knn.score(x_train,y_train)\n",
    "    test=knn.score(x_test,y_test)\n",
    "    \n",
    "    tr.append(train)\n",
    "    te.append(test) \n",
    "\n",
    "plt.plot(tr)\n",
    "plt.plot(te)    "
   ]
  },
  {
   "cell_type": "code",
   "execution_count": 180,
   "id": "2a5d4b70",
   "metadata": {},
   "outputs": [
    {
     "name": "stdout",
     "output_type": "stream",
     "text": [
      "KNeighborsClassifier(n_neighbors= Accuracy\n",
      "Accuracy: 0.8162162162162162 \n",
      "Classification Report:\n",
      "               precision    recall  f1-score   support\n",
      "\n",
      "           0       1.00      0.41      0.59        58\n",
      "           1       0.79      1.00      0.88       127\n",
      "\n",
      "    accuracy                           0.82       185\n",
      "   macro avg       0.89      0.71      0.73       185\n",
      "weighted avg       0.86      0.82      0.79       185\n",
      " \n",
      "Confusion Matrix: \n",
      " [[ 24  34]\n",
      " [  0 127]]\n",
      "Training Accuracy: 0.8111888111888111\n",
      "Testing Accuracy :0.8162162162162162\n",
      "\n",
      "\n",
      "SVC Accuracy\n",
      "Accuracy: 0.8162162162162162 \n",
      "Classification Report:\n",
      "               precision    recall  f1-score   support\n",
      "\n",
      "           0       1.00      0.41      0.59        58\n",
      "           1       0.79      1.00      0.88       127\n",
      "\n",
      "    accuracy                           0.82       185\n",
      "   macro avg       0.89      0.71      0.73       185\n",
      "weighted avg       0.86      0.82      0.79       185\n",
      " \n",
      "Confusion Matrix: \n",
      " [[ 24  34]\n",
      " [  0 127]]\n",
      "Training Accuracy: 0.8088578088578089\n",
      "Testing Accuracy :0.8162162162162162\n",
      "\n",
      "\n",
      "DecisionTreeClassifier Accuracy\n",
      "Accuracy: 0.654054054054054 \n",
      "Classification Report:\n",
      "               precision    recall  f1-score   support\n",
      "\n",
      "           0       0.46      0.55      0.50        58\n",
      "           1       0.77      0.70      0.74       127\n",
      "\n",
      "    accuracy                           0.65       185\n",
      "   macro avg       0.62      0.63      0.62       185\n",
      "weighted avg       0.67      0.65      0.66       185\n",
      " \n",
      "Confusion Matrix: \n",
      " [[32 26]\n",
      " [38 89]]\n",
      "Training Accuracy: 1.0\n",
      "Testing Accuracy :0.654054054054054\n",
      "\n",
      "\n",
      "LogisticRegression Accuracy\n",
      "Accuracy: 0.8162162162162162 \n",
      "Classification Report:\n",
      "               precision    recall  f1-score   support\n",
      "\n",
      "           0       1.00      0.41      0.59        58\n",
      "           1       0.79      1.00      0.88       127\n",
      "\n",
      "    accuracy                           0.82       185\n",
      "   macro avg       0.89      0.71      0.73       185\n",
      "weighted avg       0.86      0.82      0.79       185\n",
      " \n",
      "Confusion Matrix: \n",
      " [[ 24  34]\n",
      " [  0 127]]\n",
      "Training Accuracy: 0.8065268065268065\n",
      "Testing Accuracy :0.8162162162162162\n",
      "\n",
      "\n",
      "GaussianNB Accuracy\n",
      "Accuracy: 0.8054054054054054 \n",
      "Classification Report:\n",
      "               precision    recall  f1-score   support\n",
      "\n",
      "           0       0.82      0.48      0.61        58\n",
      "           1       0.80      0.95      0.87       127\n",
      "\n",
      "    accuracy                           0.81       185\n",
      "   macro avg       0.81      0.72      0.74       185\n",
      "weighted avg       0.81      0.81      0.79       185\n",
      " \n",
      "Confusion Matrix: \n",
      " [[ 28  30]\n",
      " [  6 121]]\n",
      "Training Accuracy: 0.7995337995337995\n",
      "Testing Accuracy :0.8054054054054054\n",
      "\n",
      "\n",
      "RandomForestClassifier(max_depth=10, min_samples_leaf=12, n_estimators=8 Accuracy\n",
      "Accuracy: 0.8162162162162162 \n",
      "Classification Report:\n",
      "               precision    recall  f1-score   support\n",
      "\n",
      "           0       1.00      0.41      0.59        58\n",
      "           1       0.79      1.00      0.88       127\n",
      "\n",
      "    accuracy                           0.82       185\n",
      "   macro avg       0.89      0.71      0.73       185\n",
      "weighted avg       0.86      0.82      0.79       185\n",
      " \n",
      "Confusion Matrix: \n",
      " [[ 24  34]\n",
      " [  0 127]]\n",
      "Training Accuracy: 0.8065268065268065\n",
      "Testing Accuracy :0.8162162162162162\n",
      "\n",
      "\n"
     ]
    }
   ],
   "source": [
    "from sklearn.tree import DecisionTreeClassifier\n",
    "from sklearn.linear_model import LogisticRegression\n",
    "from sklearn.naive_bayes import GaussianNB\n",
    "from sklearn.ensemble import RandomForestClassifier\n",
    "\n",
    "\n",
    "knn=mymodel(KNeighborsClassifier(n_neighbors=7))\n",
    "svc=mymodel(SVC())\n",
    "dt=mymodel(DecisionTreeClassifier())\n",
    "lr=mymodel(LogisticRegression())\n",
    "gnb=mymodel(GaussianNB())\n",
    "rfc=mymodel(RandomForestClassifier(n_estimators=80,max_depth=10,min_samples_leaf=12))"
   ]
  },
  {
   "cell_type": "code",
   "execution_count": 181,
   "id": "15726428",
   "metadata": {},
   "outputs": [
    {
     "name": "stdout",
     "output_type": "stream",
     "text": [
      "0.8162162162162162\n",
      "              precision    recall  f1-score   support\n",
      "\n",
      "           0       1.00      0.41      0.59        58\n",
      "           1       0.79      1.00      0.88       127\n",
      "\n",
      "    accuracy                           0.82       185\n",
      "   macro avg       0.89      0.71      0.73       185\n",
      "weighted avg       0.86      0.82      0.79       185\n",
      "\n"
     ]
    }
   ],
   "source": [
    "lr= LogisticRegression()\n",
    "lr_model = lr.fit(x_train,y_train)\n",
    "\n",
    "lr_model_score = lr_model.score(x_test,y_test)\n",
    "print(lr_model_score)\n",
    "\n",
    "lr_model_classification_report = classification_report(y_test,y_pred)\n",
    "print(lr_model_classification_report)"
   ]
  },
  {
   "attachments": {},
   "cell_type": "markdown",
   "id": "a4bcb0a9",
   "metadata": {},
   "source": [
    "The ideal model would then be the Logistic Regression model"
   ]
  },
  {
   "cell_type": "code",
   "execution_count": 182,
   "id": "c772ecf2",
   "metadata": {},
   "outputs": [],
   "source": [
    "#import joblib\n",
    "#joblib.dump(scaler,'Loan_Prediction_scaler.pkl')"
   ]
  },
  {
   "cell_type": "code",
   "execution_count": 183,
   "id": "be2cb667",
   "metadata": {},
   "outputs": [],
   "source": [
    "import pickle\n",
    "model = lr\n",
    "file = open('LinearRegression.pkl','wb')\n",
    "pickle.dump(model,file)\n",
    "#filename = 'finalized_model.sav'\n",
    "#pickle.dump(model, open(filename,'wb'))"
   ]
  },
  {
   "cell_type": "code",
   "execution_count": null,
   "id": "b4ee0759",
   "metadata": {},
   "outputs": [],
   "source": []
  }
 ],
 "metadata": {
  "kernelspec": {
   "display_name": "loankernel",
   "language": "python",
   "name": "loankernel"
  },
  "language_info": {
   "codemirror_mode": {
    "name": "ipython",
    "version": 3
   },
   "file_extension": ".py",
   "mimetype": "text/x-python",
   "name": "python",
   "nbconvert_exporter": "python",
   "pygments_lexer": "ipython3",
   "version": "3.10.9"
  }
 },
 "nbformat": 4,
 "nbformat_minor": 5
}
